{
 "cells": [
  {
   "cell_type": "markdown",
   "metadata": {},
   "source": [
    "### Data structures in Pandas"
   ]
  },
  {
   "cell_type": "markdown",
   "metadata": {},
   "source": [
    "```\n",
    "Data Structure   Dimension   Description\n",
    "Series               1         1D array\n",
    "DataFrame            2         2D array - container of series\n",
    "Panel                3         3D array - container of DataFrame\n",
    "```"
   ]
  },
  {
   "cell_type": "markdown",
   "metadata": {},
   "source": [
    "#### Homogeneous data, Size, Value mutable"
   ]
  },
  {
   "cell_type": "markdown",
   "metadata": {},
   "source": [
    "#### `pd.Series`"
   ]
  },
  {
   "cell_type": "markdown",
   "metadata": {},
   "source": [
    "Empty series"
   ]
  },
  {
   "cell_type": "code",
   "execution_count": 1,
   "metadata": {},
   "outputs": [
    {
     "name": "stdout",
     "output_type": "stream",
     "text": [
      "Series([], dtype: float64)\n"
     ]
    }
   ],
   "source": [
    "import pandas as pd\n",
    "s = pd.Series()\n",
    "print(s)"
   ]
  },
  {
   "cell_type": "code",
   "execution_count": 2,
   "metadata": {},
   "outputs": [
    {
     "name": "stdout",
     "output_type": "stream",
     "text": [
      "0    a\n",
      "1    b\n",
      "2    c\n",
      "3    d\n",
      "dtype: object\n"
     ]
    }
   ],
   "source": [
    "import numpy as np\n",
    "data = np.array(['a','b','c','d'])\n",
    "s = pd.Series(data)\n",
    "print(s)"
   ]
  },
  {
   "cell_type": "code",
   "execution_count": 3,
   "metadata": {},
   "outputs": [
    {
     "name": "stdout",
     "output_type": "stream",
     "text": [
      "21    a\n",
      "22    b\n",
      "23    c\n",
      "26    d\n",
      "dtype: object\n"
     ]
    }
   ],
   "source": [
    "index=[21,22,23,26]  # NOTE: cannot reindex from a duplicate axis\n",
    "s = pd.Series(data,index)\n",
    "print(s)"
   ]
  },
  {
   "cell_type": "code",
   "execution_count": 4,
   "metadata": {},
   "outputs": [
    {
     "name": "stdout",
     "output_type": "stream",
     "text": [
      "a\n"
     ]
    }
   ],
   "source": [
    "print(s[21]) # retrieve using index"
   ]
  },
  {
   "cell_type": "code",
   "execution_count": 5,
   "metadata": {},
   "outputs": [
    {
     "name": "stdout",
     "output_type": "stream",
     "text": [
      "21    a\n",
      "26    d\n",
      "dtype: object\n"
     ]
    }
   ],
   "source": [
    "print(s[[21,26]]) # retrieve using indices"
   ]
  },
  {
   "cell_type": "markdown",
   "metadata": {},
   "source": [
    "#### `pd.DataFrame`"
   ]
  },
  {
   "cell_type": "code",
   "execution_count": 6,
   "metadata": {},
   "outputs": [
    {
     "name": "stdout",
     "output_type": "stream",
     "text": [
      "        Name  Age\n",
      "0       Luke   23\n",
      "1       Leia   23\n",
      "2  Hans Solo   36\n",
      "3   Chebacca  203\n"
     ]
    }
   ],
   "source": [
    "data=[['Luke',23],['Leia',23],['Hans Solo',36],['Chebacca',203]]\n",
    "df=pd.DataFrame(data,columns=['Name','Age'])\n",
    "print(df)"
   ]
  },
  {
   "cell_type": "code",
   "execution_count": 7,
   "metadata": {},
   "outputs": [
    {
     "name": "stdout",
     "output_type": "stream",
     "text": [
      "        Name    Age\n",
      "0       Luke   23.0\n",
      "1       Leia   23.0\n",
      "2  Hans Solo   36.0\n",
      "3   Chebacca  203.0\n"
     ]
    }
   ],
   "source": [
    "df=pd.DataFrame(data,columns=['Name','Age'],dtype=float)\n",
    "print(df)"
   ]
  },
  {
   "cell_type": "code",
   "execution_count": 8,
   "metadata": {},
   "outputs": [
    {
     "name": "stdout",
     "output_type": "stream",
     "text": [
      "   Age       Name\n",
      "0   23       Luke\n",
      "1   23       Leia\n",
      "2   36  Hans Solo\n",
      "3  203   Chebacca\n"
     ]
    }
   ],
   "source": [
    "data={'Name':['Luke','Leia','Hans Solo','Chebacca'],'Age':[23,23,36,203]}\n",
    "df=pd.DataFrame(data)\n",
    "print(df)"
   ]
  },
  {
   "cell_type": "code",
   "execution_count": 9,
   "metadata": {},
   "outputs": [
    {
     "name": "stdout",
     "output_type": "stream",
     "text": [
      "        Age       Name\n",
      "char-1   23       Luke\n",
      "char-2   23       Leia\n",
      "char-3   36  Hans Solo\n",
      "char-5  203   Chebacca\n"
     ]
    }
   ],
   "source": [
    "index=['char-1','char-2','char-3','char-5']\n",
    "df=pd.DataFrame(data,index)\n",
    "print(df)"
   ]
  },
  {
   "cell_type": "code",
   "execution_count": 10,
   "metadata": {},
   "outputs": [
    {
     "name": "stdout",
     "output_type": "stream",
     "text": [
      "        Age            Name\n",
      "char-1   29          Pippin\n",
      "char-2   51           Frodo\n",
      "char-3  129           Bilbo\n",
      "char-4  589          Gollum\n",
      "char-5   39  Samwise Gamgee\n"
     ]
    }
   ],
   "source": [
    "data={'Name':['Pippin','Frodo','Bilbo','Gollum','Samwise Gamgee'],'Age':[29,51,129,589,39]}\n",
    "index=['char-1','char-2','char-3','char-4','char-5']\n",
    "\n",
    "df=pd.DataFrame(data,index)\n",
    "print(df)"
   ]
  },
  {
   "cell_type": "markdown",
   "metadata": {},
   "source": [
    "Create a DataFrame from Dict of Series"
   ]
  },
  {
   "cell_type": "code",
   "execution_count": 20,
   "metadata": {},
   "outputs": [
    {
     "name": "stdout",
     "output_type": "stream",
     "text": [
      "        Age1      Name1\n",
      "char-1    23       Luke\n",
      "char-2    23       Leia\n",
      "char-3    36  Hans Solo\n",
      "char-5   203   Chebacca\n"
     ]
    }
   ],
   "source": [
    "data1=['Luke','Leia','Hans Solo','Chebacca']\n",
    "data2=[23,23,36,203]\n",
    "\n",
    "index1=['char-1','char-2','char-3','char-5']\n",
    "\n",
    "SW={'Name1':pd.Series(data1,index1), 'Age1':pd.Series(data2,index1)}\n",
    "SW=pd.DataFrame(d1)\n",
    "print(SW)"
   ]
  },
  {
   "cell_type": "code",
   "execution_count": 21,
   "metadata": {},
   "outputs": [
    {
     "name": "stdout",
     "output_type": "stream",
     "text": [
      "        Age2           Name2\n",
      "char-1    29          Pippin\n",
      "char-2    51           Frodo\n",
      "char-3   129           Bilbo\n",
      "char-4   589          Gollum\n",
      "char-5    39  Samwise Gamgee\n"
     ]
    }
   ],
   "source": [
    "data3=['Pippin','Frodo','Bilbo','Gollum','Samwise Gamgee']\n",
    "data4=[29,51,129,589,39]\n",
    "\n",
    "index2=['char-1','char-2','char-3','char-4','char-5']\n",
    "\n",
    "d2={'Name2':pd.Series(data3,index2), 'Age2':pd.Series(data4,index2)}\n",
    "LOTR=pd.DataFrame(d2)\n",
    "print(LOTR)"
   ]
  },
  {
   "cell_type": "markdown",
   "metadata": {},
   "source": [
    "Addiing a new column"
   ]
  },
  {
   "cell_type": "code",
   "execution_count": 24,
   "metadata": {},
   "outputs": [
    {
     "name": "stdout",
     "output_type": "stream",
     "text": [
      "               SW  SW Age\n",
      "char-1       Luke      23\n",
      "char-2       Leia      23\n",
      "char-3  Hans Solo      36\n",
      "char-5   Chebacca     203\n"
     ]
    }
   ],
   "source": [
    "d={'SW':pd.Series(data1,index1),'SW Age':pd.Series(data2,index1)}\n",
    "FILMS=pd.DataFrame(d)\n",
    "print(FILMS)"
   ]
  },
  {
   "cell_type": "code",
   "execution_count": 26,
   "metadata": {},
   "outputs": [
    {
     "name": "stdout",
     "output_type": "stream",
     "text": [
      "               SW  SW Age            LOTR\n",
      "char-1       Luke      23          Pippin\n",
      "char-2       Leia      23           Frodo\n",
      "char-3  Hans Solo      36           Bilbo\n",
      "char-5   Chebacca     203  Samwise Gamgee\n"
     ]
    }
   ],
   "source": [
    "FILMS['LOTR']=pd.Series(data3,index2)\n",
    "print(FILMS)"
   ]
  },
  {
   "cell_type": "markdown",
   "metadata": {},
   "source": [
    "Addiing a new column -- showing missing values"
   ]
  },
  {
   "cell_type": "code",
   "execution_count": 43,
   "metadata": {},
   "outputs": [
    {
     "name": "stdout",
     "output_type": "stream",
     "text": [
      "                  LOTR  LOTR Age\n",
      "char-1          Pippin        29\n",
      "char-2           Frodo        51\n",
      "char-3           Bilbo       129\n",
      "char-4          Gollum       589\n",
      "char-5  Samwise Gamgee        39\n"
     ]
    }
   ],
   "source": [
    "d={'LOTR':pd.Series(data3,index2),'LOTR Age':pd.Series(data4,index2)}\n",
    "FILMS=pd.DataFrame(d)\n",
    "print(FILMS)"
   ]
  },
  {
   "cell_type": "code",
   "execution_count": 44,
   "metadata": {},
   "outputs": [
    {
     "name": "stdout",
     "output_type": "stream",
     "text": [
      "                  LOTR  LOTR Age         SW  SW Age\n",
      "char-1          Pippin        29       Luke    23.0\n",
      "char-2           Frodo        51       Leia    23.0\n",
      "char-3           Bilbo       129  Hans Solo    36.0\n",
      "char-4          Gollum       589        NaN     NaN\n",
      "char-5  Samwise Gamgee        39   Chebacca   203.0\n"
     ]
    }
   ],
   "source": [
    "FILMS['SW']=pd.Series(data1,index1)\n",
    "FILMS['SW Age']=pd.Series(data2,index1)\n",
    "print(FILMS)"
   ]
  },
  {
   "cell_type": "code",
   "execution_count": 45,
   "metadata": {},
   "outputs": [
    {
     "name": "stdout",
     "output_type": "stream",
     "text": [
      "                  LOTR  LOTR Age         SW  SW Age  TOTAL AGE\n",
      "char-1          Pippin        29       Luke    23.0       52.0\n",
      "char-2           Frodo        51       Leia    23.0       74.0\n",
      "char-3           Bilbo       129  Hans Solo    36.0      165.0\n",
      "char-4          Gollum       589        NaN     NaN        NaN\n",
      "char-5  Samwise Gamgee        39   Chebacca   203.0      242.0\n"
     ]
    }
   ],
   "source": [
    "FILMS['TOTAL AGE']=FILMS['LOTR Age']+FILMS['SW Age']\n",
    "print(FILMS)"
   ]
  },
  {
   "cell_type": "code",
   "execution_count": 46,
   "metadata": {},
   "outputs": [
    {
     "name": "stdout",
     "output_type": "stream",
     "text": [
      "                  LOTR  LOTR Age         SW  SW Age\n",
      "char-1          Pippin        29       Luke    23.0\n",
      "char-2           Frodo        51       Leia    23.0\n",
      "char-3           Bilbo       129  Hans Solo    36.0\n",
      "char-4          Gollum       589        NaN     NaN\n",
      "char-5  Samwise Gamgee        39   Chebacca   203.0\n"
     ]
    }
   ],
   "source": [
    "FILMS.pop('TOTAL AGE')\n",
    "print(FILMS)"
   ]
  },
  {
   "cell_type": "code",
   "execution_count": null,
   "metadata": {
    "collapsed": true
   },
   "outputs": [],
   "source": []
  }
 ],
 "metadata": {
  "kernelspec": {
   "display_name": "Python 3",
   "language": "python",
   "name": "python3"
  },
  "language_info": {
   "codemirror_mode": {
    "name": "ipython",
    "version": 3
   },
   "file_extension": ".py",
   "mimetype": "text/x-python",
   "name": "python",
   "nbconvert_exporter": "python",
   "pygments_lexer": "ipython3",
   "version": "3.6.10"
  }
 },
 "nbformat": 4,
 "nbformat_minor": 2
}
